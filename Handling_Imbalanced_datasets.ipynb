{
  "nbformat": 4,
  "nbformat_minor": 0,
  "metadata": {
    "colab": {
      "name": "Handling Imbalanced datasets.ipynb",
      "provenance": []
    },
    "kernelspec": {
      "name": "python3",
      "display_name": "Python 3"
    }
  },
  "cells": [
    {
      "cell_type": "code",
      "metadata": {
        "id": "rgQPBMlL1mkz",
        "colab_type": "code",
        "colab": {}
      },
      "source": [
        "# plot imbalanced classification problem\n",
        "from collections import Counter\n",
        "from sklearn.datasets import make_classification\n",
        "from matplotlib import pyplot\n",
        "from numpy import where"
      ],
      "execution_count": 1,
      "outputs": []
    },
    {
      "cell_type": "markdown",
      "metadata": {
        "id": "mDghMk3z0evt",
        "colab_type": "text"
      },
      "source": [
        "1. Problems With Imbalance Classification.\n",
        "\n",
        "Imbalanced classification is a problem to the existing machine learning algorithms as these algorightms were not designed with imbalanced classes in mind. So the models that are trained in a  traditional machine learning algorithm will have poor performance , especially with the minority class, usually minority class would be the important class (Fraud Detection, Cancer Detection). And in these cases incorrectly predicting could have sever implications.\n",
        "\n"
      ]
    },
    {
      "cell_type": "markdown",
      "metadata": {
        "id": "IVijl4611W8s",
        "colab_type": "text"
      },
      "source": [
        "2. Intuition for Imbalanced Data.\n",
        "\n",
        "Here we will generate a synthetic imbalanced dataset."
      ]
    },
    {
      "cell_type": "code",
      "metadata": {
        "id": "H50wkEIa1Uz8",
        "colab_type": "code",
        "colab": {
          "base_uri": "https://localhost:8080/",
          "height": 34
        },
        "outputId": "ca1debc0-cac1-4599-a7ee-6057e762b8b6"
      },
      "source": [
        "X, y = make_classification(n_samples=10000, n_features=5, n_redundant=0, n_clusters_per_class=1, weights=[0.95, 0.05], flip_y=0)\n",
        "\n",
        "counter = Counter(y)\n",
        "print(counter)"
      ],
      "execution_count": 4,
      "outputs": [
        {
          "output_type": "stream",
          "text": [
            "Counter({0: 9500, 1: 500})\n"
          ],
          "name": "stdout"
        }
      ]
    },
    {
      "cell_type": "code",
      "metadata": {
        "id": "WEhHgUk-2Dqg",
        "colab_type": "code",
        "colab": {
          "base_uri": "https://localhost:8080/",
          "height": 265
        },
        "outputId": "8b8b50c2-1b03-46af-9231-d8421fe3205c"
      },
      "source": [
        "# scatter plot of examples by class label\n",
        "for label, _ in counter.items():\n",
        "\trow_ix = where(y == label)[0]\n",
        "\tpyplot.scatter(X[row_ix, 0], X[row_ix, 1], label=str(label))\n",
        "pyplot.legend()\n",
        "pyplot.show()"
      ],
      "execution_count": 5,
      "outputs": [
        {
          "output_type": "display_data",
          "data": {
            "image/png": "[encoded data removed]",
            "text/plain": [
              "<Figure size 432x288 with 1 Axes>"
            ]
          },
          "metadata": {
            "tags": [],
            "needs_background": "light"
          }
        }
      ]
    },
    {
      "cell_type": "markdown",
      "metadata": {
        "id": "rbPX0DaC2YB3",
        "colab_type": "text"
      },
      "source": [
        "3. Evaluate Imbalanced classification"
      ]
    },
    {
      "cell_type": "markdown",
      "metadata": {
        "id": "zm7K3CWt2fyQ",
        "colab_type": "text"
      },
      "source": [
        "Although prediction accuracy is the most common metric used in classification problems, when it comes to imbalanced dataset, Just Accuracy would not justify the true performance of the model.\n",
        "\n",
        "The reason for this is the if majority class has 98 % of data and minority class has only 2 %  of data, Even if model always predicts majority class all the time, The Accuracy would still be 98 % and the model doesn't not need any understanding of data do achieve this.\n",
        "\n",
        "Instead we should look for alternate metrics like Precision and Recall score that allow the performance to be considered focussing on the positive class.\n",
        "\n",
        "* Precision calculates the ratio of the number of positive cases correctly \n",
        "predicted by the total number of positive classes, maximizing precision would reduce the False Positives.\n",
        "\n",
        "    Precision = TruePositive/(TruePositive + FalsePositive)\n",
        "\n",
        "* Recall Predicts the ratio of the number of positive cases correctlt predicted by the total number of case that could have been predicted, maximizing the recall would reduce teh false negatives.\n",
        "    Recall = TruePositive/(TruePositive + FalseNegative)\n",
        "\n",
        "* The performance of a model can be summarized using a single measure which combines both precision and recall , called the F1-Score. Maximizing the F1-Score would maximize both precision and recall.\n",
        "    F-measure = (2 * Recall * Precision)/(Precision + Recall)\n",
        "\n"
      ]
    },
    {
      "cell_type": "code",
      "metadata": {
        "id": "jBuLbuNr2M3R",
        "colab_type": "code",
        "colab": {}
      },
      "source": [
        "from sklearn.linear_model import LogisticRegression\n",
        "from sklearn.metrics import accuracy_score\n",
        "from sklearn.metrics import precision_score\n",
        "from sklearn.metrics import recall_score\n",
        "from sklearn.metrics import f1_score\n",
        "from sklearn.metrics import fbeta_score, roc_auc_score"
      ],
      "execution_count": 9,
      "outputs": []
    },
    {
      "cell_type": "code",
      "metadata": {
        "id": "76_nttMN48Om",
        "colab_type": "code",
        "colab": {
          "base_uri": "https://localhost:8080/",
          "height": 119
        },
        "outputId": "87ba7238-287e-48b8-e24d-468c8c65d75f"
      },
      "source": [
        "model = LogisticRegression()\n",
        "model.fit(X, y)\n",
        "y_pred = model.predict(X)\n",
        "\n",
        "print(f\"Accuracy : {model.score(X, y)}\")\n",
        "print(f\"Precision : {precision_score(y, y_pred)}\")\n",
        "print(f\"Recall  : {recall_score(y, y_pred)}\")\n",
        "print(f\"F1 Score : {f1_score(y, y_pred)}\")\n",
        "print(f\"F Beta :  {fbeta_score(y, y_pred,beta=10)}\")\n",
        "print(f\"Roc Auc Score : {roc_auc_score(y, y_pred)}\")"
      ],
      "execution_count": 13,
      "outputs": [
        {
          "output_type": "stream",
          "text": [
            "Accuracy : 0.9614\n",
            "Precision : 0.7544642857142857\n",
            "Recall  : 0.338\n",
            "F1 Score : 0.46685082872928185\n",
            "F Beta :  0.3398574386747373\n",
            "Roc Auc Score : 0.6661052631578948\n"
          ],
          "name": "stdout"
        }
      ]
    },
    {
      "cell_type": "markdown",
      "metadata": {
        "id": "xMUZnCZW5kd4",
        "colab_type": "text"
      },
      "source": [
        "Here we can see that model has 96 % accuracy, but very low f1 score "
      ]
    },
    {
      "cell_type": "markdown",
      "metadata": {
        "id": "lAcaCUsk7KzN",
        "colab_type": "text"
      },
      "source": [
        "4. Undersampling the majority class\n",
        "\n",
        "\n",
        "A simple approach to handling an imbalanced dataset is to sample the the training dataset to have more balanced class distribution.\n",
        "\n",
        "This can be achieved by deleting samples from the training dataset also known as \"Undersampling\". The one downside with this approach is the we might loose some important information while deleting the records."
      ]
    },
    {
      "cell_type": "code",
      "metadata": {
        "id": "_73qG_he5hrn",
        "colab_type": "code",
        "colab": {
          "base_uri": "https://localhost:8080/",
          "height": 105
        },
        "outputId": "2231db17-b126-40f8-8d22-953815d59239"
      },
      "source": [
        "# example of undersampling the majority class\n",
        "from collections import Counter\n",
        "from sklearn.datasets import make_classification\n",
        "from imblearn.under_sampling import RandomUnderSampler, \n",
        "# generate dataset\n",
        "X, y = make_classification(n_samples=10000, n_features=2, n_redundant=0, n_clusters_per_class=1, weights=[0.99, 0.01], flip_y=0)\n",
        "# summarize class distribution\n",
        "print(Counter(y))\n",
        "# define undersample strategy\n",
        "undersample = RandomUnderSampler(sampling_strategy=0.5) #we are undersampling the majority class at a ratio of 50 % higher than minority class\n",
        "# fit and apply the transform\n",
        "X_under, y_under = undersample.fit_resample(X, y)\n",
        "# summarize class distribution\n",
        "print(Counter(y_under))"
      ],
      "execution_count": 15,
      "outputs": [
        {
          "output_type": "stream",
          "text": [
            "Counter({0: 9900, 1: 100})\n",
            "Counter({0: 200, 1: 100})\n"
          ],
          "name": "stdout"
        },
        {
          "output_type": "stream",
          "text": [
            "/usr/local/lib/python3.6/dist-packages/sklearn/utils/deprecation.py:87: FutureWarning: Function safe_indexing is deprecated; safe_indexing is deprecated in version 0.22 and will be removed in version 0.24.\n",
            "  warnings.warn(msg, category=FutureWarning)\n"
          ],
          "name": "stderr"
        }
      ]
    },
    {
      "cell_type": "code",
      "metadata": {
        "id": "ipSI21xa87td",
        "colab_type": "code",
        "colab": {
          "base_uri": "https://localhost:8080/",
          "height": 119
        },
        "outputId": "f22b83c0-0222-4394-a9ef-85ad95618e5b"
      },
      "source": [
        "model = LogisticRegression()\n",
        "model.fit(X_under, y_under)\n",
        "y_pred = model.predict(X_under)\n",
        "\n",
        "print(f\"Accuracy : {model.score(X_under, y_under)}\")\n",
        "print(f\"Precision : {precision_score(y_under, y_pred)}\")\n",
        "print(f\"Recall  : {recall_score(y_under, y_pred)}\")\n",
        "print(f\"F1 Score : {f1_score(y_under, y_pred)}\")\n",
        "print(f\"F Beta :  {fbeta_score(y_under, y_pred,beta=10)}\")\n",
        "print(f\"Roc Auc Score : {roc_auc_score(y_under, y_pred)}\")"
      ],
      "execution_count": 16,
      "outputs": [
        {
          "output_type": "stream",
          "text": [
            "Accuracy : 0.9466666666666667\n",
            "Precision : 0.8962264150943396\n",
            "Recall  : 0.95\n",
            "F1 Score : 0.9223300970873787\n",
            "F Beta :  0.9494359786265585\n",
            "Roc Auc Score : 0.9474999999999999\n"
          ],
          "name": "stdout"
        }
      ]
    },
    {
      "cell_type": "code",
      "metadata": {
        "id": "Gzm3D8Bs-vb1",
        "colab_type": "code",
        "colab": {
          "base_uri": "https://localhost:8080/",
          "height": 119
        },
        "outputId": "169fa360-3a6a-4ace-83d9-ac148a708b0d"
      },
      "source": [
        "y_pred = model.predict(X)\n",
        "print(f\"Accuracy : {model.score(X, y)}\")\n",
        "print(f\"Precision : {precision_score(y, y_pred)}\")\n",
        "print(f\"Recall  : {recall_score(y, y_pred)}\")\n",
        "print(f\"F1 Score : {f1_score(y, y_pred)}\")\n",
        "print(f\"F Beta :  {fbeta_score(y, y_pred,beta=10)}\")\n",
        "print(f\"Roc Auc Score : {roc_auc_score(y, y_pred)}\")"
      ],
      "execution_count": 19,
      "outputs": [
        {
          "output_type": "stream",
          "text": [
            "Accuracy : 0.965\n",
            "Precision : 0.2159090909090909\n",
            "Recall  : 0.95\n",
            "F1 Score : 0.35185185185185186\n",
            "F Beta :  0.9190613026819925\n",
            "Roc Auc Score : 0.9575757575757575\n"
          ],
          "name": "stdout"
        }
      ]
    },
    {
      "cell_type": "markdown",
      "metadata": {
        "id": "0FQTv-n2_Gnf",
        "colab_type": "text"
      },
      "source": [
        "5. Oversampling the Minority Class.\n",
        "\n",
        "An alternative to deleting the data of majority class is to add new examples to the minority class.\n",
        "\n",
        "This can be achieved by simply duplicating the data of the minority class.These new examples would not add any new information to the model, instead the new exaples can added to the minority class by synthesizing the data from existing minority class.These new examples would be close to the existing data but different in small but random way.\n",
        "\n"
      ]
    },
    {
      "cell_type": "code",
      "metadata": {
        "id": "QBWTkHAD-3OQ",
        "colab_type": "code",
        "colab": {
          "base_uri": "https://localhost:8080/",
          "height": 105
        },
        "outputId": "2439f4ba-975b-402d-ad34-e1c02f092544"
      },
      "source": [
        "from imblearn.over_sampling import SMOTE\n",
        "\n",
        "# generate dataset\n",
        "X, y = make_classification(n_samples=10000, n_features=2, n_redundant=0, n_clusters_per_class=1, weights=[0.99, 0.01], flip_y=0)\n",
        "# summarize class distribution\n",
        "print(Counter(y))\n",
        "# define oversample strategy\n",
        "\n",
        "oversample = SMOTE(sampling_strategy=0.5)\n",
        "\n",
        "X_over, y_over = oversample.fit_resample(X, y)\n",
        "print(Counter(y_over))"
      ],
      "execution_count": 22,
      "outputs": [
        {
          "output_type": "stream",
          "text": [
            "Counter({0: 9900, 1: 100})\n",
            "Counter({0: 9900, 1: 4950})\n"
          ],
          "name": "stdout"
        },
        {
          "output_type": "stream",
          "text": [
            "/usr/local/lib/python3.6/dist-packages/sklearn/utils/deprecation.py:87: FutureWarning: Function safe_indexing is deprecated; safe_indexing is deprecated in version 0.22 and will be removed in version 0.24.\n",
            "  warnings.warn(msg, category=FutureWarning)\n"
          ],
          "name": "stderr"
        }
      ]
    },
    {
      "cell_type": "code",
      "metadata": {
        "id": "LDLYlt2tBO-i",
        "colab_type": "code",
        "colab": {
          "base_uri": "https://localhost:8080/",
          "height": 119
        },
        "outputId": "de527799-dbdc-44a5-c383-cff712eb84b2"
      },
      "source": [
        "model = LogisticRegression()\n",
        "model.fit(X_over, y_over)\n",
        "y_pred = model.predict(X_over)\n",
        "\n",
        "print(f\"Accuracy : {model.score(X_over, y_over)}\")\n",
        "print(f\"Precision : {precision_score(y_over, y_pred)}\")\n",
        "print(f\"Recall  : {recall_score(y_over, y_pred)}\")\n",
        "print(f\"F1 Score : {f1_score(y_over, y_pred)}\")\n",
        "print(f\"F Beta :  {fbeta_score(y_over, y_pred,beta=10)}\")\n",
        "print(f\"Roc Auc Score : {roc_auc_score(y_over, y_pred)}\")"
      ],
      "execution_count": 23,
      "outputs": [
        {
          "output_type": "stream",
          "text": [
            "Accuracy : 0.8818855218855219\n",
            "Precision : 0.8084942084942085\n",
            "Recall  : 0.8460606060606061\n",
            "F1 Score : 0.8268509378084896\n",
            "F Beta :  0.8456715582390341\n",
            "Roc Auc Score : 0.872929292929293\n"
          ],
          "name": "stdout"
        }
      ]
    },
    {
      "cell_type": "code",
      "metadata": {
        "id": "SZ2mx-5RB8qK",
        "colab_type": "code",
        "colab": {
          "base_uri": "https://localhost:8080/",
          "height": 173
        },
        "outputId": "96bc59b9-2808-4379-8501-170d4e7d7aa4"
      },
      "source": [
        "oversample_100 = SMOTE(sampling_strategy=1)\n",
        "\n",
        "X_over_100, y_over_100 = oversample_100.fit_resample(X, y)\n",
        "\n",
        "model = LogisticRegression()\n",
        "model.fit(X_over_100, y_over_100)\n",
        "y_pred = model.predict(X_over_100)\n",
        "\n",
        "print(f\"Accuracy : {model.score(X_over_100, y_over_100)}\")\n",
        "print(f\"Precision : {precision_score(y_over_100, y_pred)}\")\n",
        "print(f\"Recall  : {recall_score(y_over_100, y_pred)}\")\n",
        "print(f\"F1 Score : {f1_score(y_over_100, y_pred)}\")\n",
        "print(f\"F Beta :  {fbeta_score(y_over_100, y_pred,beta=10)}\")\n",
        "print(f\"Roc Auc Score : {roc_auc_score(y_over_100, y_pred)}\")"
      ],
      "execution_count": 24,
      "outputs": [
        {
          "output_type": "stream",
          "text": [
            "Accuracy : 0.9061616161616162\n",
            "Precision : 0.8711463909913236\n",
            "Recall  : 0.9533333333333334\n",
            "F1 Score : 0.9103887334812386\n",
            "F Beta :  0.9524436619859038\n",
            "Roc Auc Score : 0.9061616161616162\n"
          ],
          "name": "stdout"
        },
        {
          "output_type": "stream",
          "text": [
            "/usr/local/lib/python3.6/dist-packages/sklearn/utils/deprecation.py:87: FutureWarning: Function safe_indexing is deprecated; safe_indexing is deprecated in version 0.22 and will be removed in version 0.24.\n",
            "  warnings.warn(msg, category=FutureWarning)\n"
          ],
          "name": "stderr"
        }
      ]
    },
    {
      "cell_type": "markdown",
      "metadata": {
        "id": "F_GbwlmrC9EK",
        "colab_type": "text"
      },
      "source": [
        "6. Combine Data Undersampling and Oversampling\n",
        "\n",
        "Data undersampling will delete examples from majority class, and undersampling will sythesize new samples to the minority class.These two approaches can be comnined to create a single dataset.\n",
        "\n",
        "Given that there are so many different data sampling techniques to choose from, it can be confusing as to which methods to combine. Thankfully, there are common combinations that have been shown to work well in practice; some examples include:\n",
        "\n",
        "* Random Undersampling with SMOTE oversampling.\n",
        "* Tomek Links Undersampling with SMOTE oversampling.\n",
        "* Edited Nearest Neighbors Undersampling with SMOTE oversampling."
      ]
    },
    {
      "cell_type": "code",
      "metadata": {
        "id": "w9ZTQfAhCTCv",
        "colab_type": "code",
        "colab": {
          "base_uri": "https://localhost:8080/",
          "height": 428
        },
        "outputId": "50261e23-8a56-473e-c659-c589d3ae0d90"
      },
      "source": [
        "from imblearn.combine import SMOTEENN\n",
        "# generate dataset\n",
        "X, y = make_classification(n_samples=10000, n_features=2, n_redundant=0, n_clusters_per_class=1, weights=[0.99, 0.01], flip_y=0)\n",
        "# summarize class distribution\n",
        "print(Counter(y))\n",
        "# define sampling strategy\n",
        "sample = SMOTEENN(sampling_strategy=0.5)\n",
        "# fit and apply the transform\n",
        "X_over_een, y_over_een = sample.fit_resample(X, y)\n",
        "# summarize class distribution\n",
        "print(Counter(y_over_een))\n",
        "\n",
        "model = LogisticRegression()\n",
        "model.fit(X_over_een, y_over_een)\n",
        "y_pred = model.predict(X_over_een)\n",
        "\n",
        "print(f\"Accuracy : {model.score(X_over_een, y_over_een)}\")\n",
        "print(f\"Precision : {precision_score(y_over_een, y_pred)}\")\n",
        "print(f\"Recall  : {recall_score(y_over_een, y_pred)}\")\n",
        "print(f\"F1 Score : {f1_score(y_over_een, y_pred)}\")\n",
        "print(f\"F Beta :  {fbeta_score(y_over_een, y_pred,beta=10)}\")\n",
        "print(f\"Roc Auc Score : {roc_auc_score(y_over_een, y_pred)}\")\n",
        "\n",
        "\n",
        "print(\"-------------------------------------------------------\")\n",
        "\n",
        "\n",
        "y_pred = model.predict(X)\n",
        "\n",
        "print(f\"Accuracy : {model.score(X, y)}\")\n",
        "print(f\"Precision : {precision_score(y, y_pred)}\")\n",
        "print(f\"Recall  : {recall_score(y, y_pred)}\")\n",
        "print(f\"F1 Score : {f1_score(y, y_pred)}\")\n",
        "print(f\"F Beta :  {fbeta_score(y, y_pred,beta=10)}\")\n",
        "print(f\"Roc Auc Score : {roc_auc_score(y, y_pred)}\")"
      ],
      "execution_count": 33,
      "outputs": [
        {
          "output_type": "stream",
          "text": [
            "Counter({0: 9900, 1: 100})\n",
            "Counter({0: 9256, 1: 4356})\n",
            "Accuracy : 0.9382897443432265\n",
            "Precision : 0.8808492201039861\n",
            "Recall  : 0.933425160697888\n",
            "F1 Score : 0.9063753901025412\n",
            "F Beta :  0.9328738619223289\n",
            "Roc Auc Score : 0.9370021222676994\n",
            "-------------------------------------------------------\n",
            "Accuracy : 0.8899\n",
            "Precision : 0.07620660457239628\n",
            "Recall  : 0.9\n",
            "F1 Score : 0.14051522248243561\n",
            "F Beta :  0.8129863160719076\n",
            "Roc Auc Score : 0.8948989898989899\n"
          ],
          "name": "stdout"
        },
        {
          "output_type": "stream",
          "text": [
            "/usr/local/lib/python3.6/dist-packages/sklearn/utils/deprecation.py:87: FutureWarning: Function safe_indexing is deprecated; safe_indexing is deprecated in version 0.22 and will be removed in version 0.24.\n",
            "  warnings.warn(msg, category=FutureWarning)\n",
            "/usr/local/lib/python3.6/dist-packages/sklearn/utils/deprecation.py:87: FutureWarning: Function safe_indexing is deprecated; safe_indexing is deprecated in version 0.22 and will be removed in version 0.24.\n",
            "  warnings.warn(msg, category=FutureWarning)\n",
            "/usr/local/lib/python3.6/dist-packages/sklearn/utils/deprecation.py:87: FutureWarning: Function safe_indexing is deprecated; safe_indexing is deprecated in version 0.22 and will be removed in version 0.24.\n",
            "  warnings.warn(msg, category=FutureWarning)\n",
            "/usr/local/lib/python3.6/dist-packages/sklearn/utils/deprecation.py:87: FutureWarning: Function safe_indexing is deprecated; safe_indexing is deprecated in version 0.22 and will be removed in version 0.24.\n",
            "  warnings.warn(msg, category=FutureWarning)\n"
          ],
          "name": "stderr"
        }
      ]
    },
    {
      "cell_type": "code",
      "metadata": {
        "id": "DlKhTq6-FQ0a",
        "colab_type": "code",
        "colab": {
          "base_uri": "https://localhost:8080/",
          "height": 343
        },
        "outputId": "8025f13c-5083-40b0-f216-73d68950e2eb"
      },
      "source": [
        "from imblearn.combine import SMOTETomek\n",
        "\n",
        "smotetomek = SMOTETomek(sampling_strategy=0.5)\n",
        "\n",
        "X_over_tomek, y_over_tomek = smotetomek.fit_resample(X,y)\n",
        "\n",
        "print(Counter(y_over_tomek))\n",
        "\n",
        "model = LogisticRegression()\n",
        "model.fit(X_over_tomek, y_over_tomek)\n",
        "y_pred = model.predict(X_over_tomek)\n",
        "\n",
        "print(f\"Accuracy : {model.score(X_over_tomek, y_over_tomek)}\")\n",
        "print(f\"Precision : {precision_score(y_over_tomek, y_pred)}\")\n",
        "print(f\"Recall  : {recall_score(y_over_tomek, y_pred)}\")\n",
        "print(f\"F1 Score : {f1_score(y_over_tomek, y_pred)}\")\n",
        "print(f\"F Beta :  {fbeta_score(y_over_tomek, y_pred,beta=10)}\")\n",
        "print(f\"Roc Auc Score : {roc_auc_score(y_over_tomek, y_pred)}\")\n",
        "\n",
        "print(\"----------------------------------------------------\")\n",
        "\n",
        "y_pred = model.predict(X)\n",
        "\n",
        "print(f\"Accuracy : {model.score(X, y)}\")\n",
        "print(f\"Precision : {precision_score(y, y_pred)}\")\n",
        "print(f\"Recall  : {recall_score(y, y_pred)}\")\n",
        "print(f\"F1 Score : {f1_score(y, y_pred)}\")\n",
        "print(f\"F Beta :  {fbeta_score(y, y_pred,beta=10)}\")\n",
        "print(f\"Roc Auc Score : {roc_auc_score(y, y_pred)}\")"
      ],
      "execution_count": 35,
      "outputs": [
        {
          "output_type": "stream",
          "text": [
            "Counter({0: 9779, 1: 4829})\n",
            "Accuracy : 0.9054627601314348\n",
            "Precision : 0.8293847917462743\n",
            "Recall  : 0.8989438807206461\n",
            "F1 Score : 0.8627645831263043\n",
            "F Beta :  0.8981980357852558\n",
            "Roc Auc Score : 0.9038128750162184\n",
            "----------------------------------------------------\n",
            "Accuracy : 0.9002\n",
            "Precision : 0.08271375464684015\n",
            "Recall  : 0.89\n",
            "F1 Score : 0.15136054421768708\n",
            "F Beta :  0.8115745756590828\n",
            "Roc Auc Score : 0.8951515151515151\n"
          ],
          "name": "stdout"
        },
        {
          "output_type": "stream",
          "text": [
            "/usr/local/lib/python3.6/dist-packages/sklearn/utils/deprecation.py:87: FutureWarning: Function safe_indexing is deprecated; safe_indexing is deprecated in version 0.22 and will be removed in version 0.24.\n",
            "  warnings.warn(msg, category=FutureWarning)\n",
            "/usr/local/lib/python3.6/dist-packages/sklearn/utils/deprecation.py:87: FutureWarning: Function safe_indexing is deprecated; safe_indexing is deprecated in version 0.22 and will be removed in version 0.24.\n",
            "  warnings.warn(msg, category=FutureWarning)\n"
          ],
          "name": "stderr"
        }
      ]
    },
    {
      "cell_type": "markdown",
      "metadata": {
        "id": "TWsUY4ArHZ02",
        "colab_type": "text"
      },
      "source": [
        "7. Cost Sensitive Algorithms\n",
        "\n",
        "Here we will have a heuristic way to update the error predicted by the model based the class weights provided to the model. In general this would be inversely proportional to the numbe rof samples in the training data. If the training classes are in the ratio of 99:1 then the class weights would be in the ratio of 1: 99\n",
        "\n"
      ]
    },
    {
      "cell_type": "code",
      "metadata": {
        "id": "75BVLVyTF_TX",
        "colab_type": "code",
        "colab": {
          "base_uri": "https://localhost:8080/",
          "height": 238
        },
        "outputId": "f67610fd-a069-486b-a888-03c128815668"
      },
      "source": [
        "# example of cost sensitive logistic regression for imbalanced classification\n",
        "from sklearn.datasets import make_classification\n",
        "from sklearn.model_selection import train_test_split\n",
        "from sklearn.linear_model import LogisticRegression\n",
        "from sklearn.metrics import f1_score\n",
        "\n",
        "X, y  = make_classification(n_samples=10000, n_features=5, n_clusters_per_class=1, weights=[0.99], flip_y=0)\n",
        "X_train, X_test, y_train, y_test = train_test_split(X, y, test_size=0.2, stratify=y)\n",
        "\n",
        "model = LogisticRegression(class_weight='balanced')\n",
        "\n",
        "model.fit(X_train, y_train)\n",
        "\n",
        "y_pred = model.predict(X_train)\n",
        "\n",
        "print(f\"Accuracy : {model.score(X_train, y_train)}\")\n",
        "print(f\"Precision : {precision_score(y_train, y_pred)}\")\n",
        "print(f\"Recall  : {recall_score(y_train, y_pred)}\")\n",
        "print(f\"F1 Score : {f1_score(y_train, y_pred)}\")\n",
        "print(f\"F Beta :  {fbeta_score(y_train, y_pred,beta=10)}\")\n",
        "print(f\"Roc Auc Score : {roc_auc_score(y_train, y_pred)}\")\n",
        "\n",
        "\n",
        "print(\"--------------------------------------------------------\")\n",
        "y_pred = model.predict(X_test)\n",
        "\n",
        "print(f\"Accuracy : {model.score(X_test, y_test)}\")\n",
        "print(f\"Precision : {precision_score(y_test, y_pred)}\")\n",
        "print(f\"Recall  : {recall_score(y_test, y_pred)}\")\n",
        "print(f\"F1 Score : {f1_score(y_test, y_pred)}\")\n",
        "print(f\"F Beta :  {fbeta_score(y_test, y_pred,beta=10)}\")\n",
        "print(f\"Roc Auc Score : {roc_auc_score(y_test, y_pred)}\")"
      ],
      "execution_count": 38,
      "outputs": [
        {
          "output_type": "stream",
          "text": [
            "Accuracy : 0.96425\n",
            "Precision : 0.21703296703296704\n",
            "Recall  : 0.9875\n",
            "F1 Score : 0.3558558558558559\n",
            "F Beta :  0.9539693926351028\n",
            "Roc Auc Score : 0.9757575757575758\n",
            "--------------------------------------------------------\n",
            "Accuracy : 0.9685\n",
            "Precision : 0.24096385542168675\n",
            "Recall  : 1.0\n",
            "F1 Score : 0.38834951456310685\n",
            "F Beta :  0.9697551608257321\n",
            "Roc Auc Score : 0.984090909090909\n"
          ],
          "name": "stdout"
        }
      ]
    },
    {
      "cell_type": "code",
      "metadata": {
        "id": "H1gIhsB0KvYs",
        "colab_type": "code",
        "colab": {}
      },
      "source": [
        ""
      ],
      "execution_count": null,
      "outputs": []
    }
  ]
}